{
 "cells": [
  {
   "cell_type": "code",
   "execution_count": 18,
   "metadata": {},
   "outputs": [],
   "source": [
    "import pandas as pd\n",
    "import numpy as np\n",
    "\n",
    "df_train = pd.read_csv('train.csv')\n",
    "df_test = pd.read_csv('test.csv')"
   ]
  },
  {
   "cell_type": "code",
   "execution_count": 19,
   "metadata": {},
   "outputs": [],
   "source": [
    "# 결측치가 있는 열과 그 개수 출력\n",
    "train_na = df_train.isnull().sum()\n",
    "test_na = df_test.isnull().sum()\n",
    "train_na_columns = train_na[train_na > 0].sort_values()\n",
    "test_na_columns = test_na[test_na > 0].sort_values()\n",
    "\n",
    "# 결과 출력"
   ]
  },
  {
   "cell_type": "code",
   "execution_count": 22,
   "metadata": {},
   "outputs": [
    {
     "name": "stdout",
     "output_type": "stream",
     "text": [
      "Electrical         1\n",
      "MasVnrArea         8\n",
      "BsmtQual          37\n",
      "BsmtCond          37\n",
      "BsmtFinType1      37\n",
      "BsmtExposure      38\n",
      "BsmtFinType2      38\n",
      "GarageCond        81\n",
      "GarageQual        81\n",
      "GarageFinish      81\n",
      "GarageYrBlt       81\n",
      "GarageType        81\n",
      "LotFrontage      259\n",
      "FireplaceQu      690\n",
      "MasVnrType       872\n",
      "Fence           1179\n",
      "Alley           1369\n",
      "MiscFeature     1406\n",
      "PoolQC          1453\n",
      "dtype: int64\n",
      "(1460, 81)\n"
     ]
    },
    {
     "data": {
      "text/plain": [
       "<bound method NDFrame.head of         Id  MSSubClass MSZoning  LotFrontage  LotArea Street Alley LotShape  \\\n",
       "0        1          60       RL         65.0     8450   Pave   NaN      Reg   \n",
       "1        2          20       RL         80.0     9600   Pave   NaN      Reg   \n",
       "2        3          60       RL         68.0    11250   Pave   NaN      IR1   \n",
       "3        4          70       RL         60.0     9550   Pave   NaN      IR1   \n",
       "4        5          60       RL         84.0    14260   Pave   NaN      IR1   \n",
       "...    ...         ...      ...          ...      ...    ...   ...      ...   \n",
       "1455  1456          60       RL         62.0     7917   Pave   NaN      Reg   \n",
       "1456  1457          20       RL         85.0    13175   Pave   NaN      Reg   \n",
       "1457  1458          70       RL         66.0     9042   Pave   NaN      Reg   \n",
       "1458  1459          20       RL         68.0     9717   Pave   NaN      Reg   \n",
       "1459  1460          20       RL         75.0     9937   Pave   NaN      Reg   \n",
       "\n",
       "     LandContour Utilities  ... PoolArea PoolQC  Fence MiscFeature MiscVal  \\\n",
       "0            Lvl    AllPub  ...        0    NaN    NaN         NaN       0   \n",
       "1            Lvl    AllPub  ...        0    NaN    NaN         NaN       0   \n",
       "2            Lvl    AllPub  ...        0    NaN    NaN         NaN       0   \n",
       "3            Lvl    AllPub  ...        0    NaN    NaN         NaN       0   \n",
       "4            Lvl    AllPub  ...        0    NaN    NaN         NaN       0   \n",
       "...          ...       ...  ...      ...    ...    ...         ...     ...   \n",
       "1455         Lvl    AllPub  ...        0    NaN    NaN         NaN       0   \n",
       "1456         Lvl    AllPub  ...        0    NaN  MnPrv         NaN       0   \n",
       "1457         Lvl    AllPub  ...        0    NaN  GdPrv        Shed    2500   \n",
       "1458         Lvl    AllPub  ...        0    NaN    NaN         NaN       0   \n",
       "1459         Lvl    AllPub  ...        0    NaN    NaN         NaN       0   \n",
       "\n",
       "     MoSold YrSold  SaleType  SaleCondition  SalePrice  \n",
       "0         2   2008        WD         Normal     208500  \n",
       "1         5   2007        WD         Normal     181500  \n",
       "2         9   2008        WD         Normal     223500  \n",
       "3         2   2006        WD        Abnorml     140000  \n",
       "4        12   2008        WD         Normal     250000  \n",
       "...     ...    ...       ...            ...        ...  \n",
       "1455      8   2007        WD         Normal     175000  \n",
       "1456      2   2010        WD         Normal     210000  \n",
       "1457      5   2010        WD         Normal     266500  \n",
       "1458      4   2010        WD         Normal     142125  \n",
       "1459      6   2008        WD         Normal     147500  \n",
       "\n",
       "[1460 rows x 81 columns]>"
      ]
     },
     "execution_count": 22,
     "metadata": {},
     "output_type": "execute_result"
    }
   ],
   "source": [
    "print(train_na_columns)\n",
    "print(df_train.shape)\n",
    "df_train.head\n"
   ]
  },
  {
   "cell_type": "code",
   "execution_count": 21,
   "metadata": {},
   "outputs": [
    {
     "name": "stdout",
     "output_type": "stream",
     "text": [
      "TotalBsmtSF        1\n",
      "GarageArea         1\n",
      "GarageCars         1\n",
      "KitchenQual        1\n",
      "BsmtUnfSF          1\n",
      "BsmtFinSF2         1\n",
      "BsmtFinSF1         1\n",
      "SaleType           1\n",
      "Exterior1st        1\n",
      "Exterior2nd        1\n",
      "Functional         2\n",
      "Utilities          2\n",
      "BsmtHalfBath       2\n",
      "BsmtFullBath       2\n",
      "MSZoning           4\n",
      "MasVnrArea        15\n",
      "BsmtFinType1      42\n",
      "BsmtFinType2      42\n",
      "BsmtQual          44\n",
      "BsmtExposure      44\n",
      "BsmtCond          45\n",
      "GarageType        76\n",
      "GarageCond        78\n",
      "GarageQual        78\n",
      "GarageYrBlt       78\n",
      "GarageFinish      78\n",
      "LotFrontage      227\n",
      "FireplaceQu      730\n",
      "MasVnrType       894\n",
      "Fence           1169\n",
      "Alley           1352\n",
      "MiscFeature     1408\n",
      "PoolQC          1456\n",
      "dtype: int64\n"
     ]
    },
    {
     "data": {
      "text/plain": [
       "(1459, 80)"
      ]
     },
     "execution_count": 21,
     "metadata": {},
     "output_type": "execute_result"
    }
   ],
   "source": [
    "print(test_na_columns)\n",
    "df_test.shape"
   ]
  },
  {
   "cell_type": "code",
   "execution_count": 23,
   "metadata": {},
   "outputs": [
    {
     "name": "stdout",
     "output_type": "stream",
     "text": [
      "Index(['MSZoning', 'Street', 'Alley', 'LotShape', 'LandContour', 'Utilities',\n",
      "       'LotConfig', 'LandSlope', 'Neighborhood', 'Condition1', 'Condition2',\n",
      "       'BldgType', 'HouseStyle', 'RoofStyle', 'RoofMatl', 'Exterior1st',\n",
      "       'Exterior2nd', 'MasVnrType', 'ExterQual', 'ExterCond', 'Foundation',\n",
      "       'BsmtQual', 'BsmtCond', 'BsmtExposure', 'BsmtFinType1', 'BsmtFinType2',\n",
      "       'Heating', 'HeatingQC', 'CentralAir', 'Electrical', 'KitchenQual',\n",
      "       'Functional', 'FireplaceQu', 'GarageType', 'GarageFinish', 'GarageQual',\n",
      "       'GarageCond', 'PavedDrive', 'PoolQC', 'Fence', 'MiscFeature',\n",
      "       'SaleType', 'SaleCondition'],\n",
      "      dtype='object')\n"
     ]
    }
   ],
   "source": [
    "# 실수나 정수가 아닌 데이터 형식의 열들을 추출\n",
    "non_numeric_columns = df_train.select_dtypes(exclude=['number'])\n",
    "\n",
    "# 결과 출력\n",
    "print(non_numeric_columns.columns)\n"
   ]
  },
  {
   "cell_type": "markdown",
   "metadata": {},
   "source": [
    "특성이 너무 많다.\n",
    "그럼으로 일단 전부다 무지성 원 핫 인코딩을 한다음, 특징추출을 해볼것이다.\n",
    "각각의 데이터 샘플에 대한 이해를 반듸시 다 해야할까?\n",
    "앞으론 특성이 수십억에 달하는걸 마주하게 될수도있는데, 이는 내생각엔 옳지 않다.\n",
    "컴퓨팅사고적인 접근이 필요한거같다,"
   ]
  },
  {
   "cell_type": "code",
   "execution_count": null,
   "metadata": {},
   "outputs": [],
   "source": []
  }
 ],
 "metadata": {
  "kernelspec": {
   "display_name": "machine_learning",
   "language": "python",
   "name": "python3"
  },
  "language_info": {
   "codemirror_mode": {
    "name": "ipython",
    "version": 3
   },
   "file_extension": ".py",
   "mimetype": "text/x-python",
   "name": "python",
   "nbconvert_exporter": "python",
   "pygments_lexer": "ipython3",
   "version": "3.9.19"
  }
 },
 "nbformat": 4,
 "nbformat_minor": 2
}
